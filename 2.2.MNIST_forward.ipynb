{
 "cells": [
  {
   "cell_type": "code",
   "execution_count": 1,
   "metadata": {},
   "outputs": [],
   "source": [
    "import sys, os\n",
    "sys.path.append(os.pardir)\n",
    "from dataset.mnist import load_mnist"
   ]
  },
  {
   "cell_type": "code",
   "execution_count": 2,
   "metadata": {},
   "outputs": [],
   "source": [
    "(x_train, y_train), (x_test, y_test) = load_mnist(flatten=True, normalize=True, one_hot_label=False)"
   ]
  },
  {
   "cell_type": "code",
   "execution_count": 3,
   "metadata": {},
   "outputs": [
    {
     "name": "stdout",
     "output_type": "stream",
     "text": [
      "(60000, 784)\n",
      "(60000,)\n",
      "(10000, 784)\n",
      "(10000,)\n"
     ]
    }
   ],
   "source": [
    "print(x_train.shape)\n",
    "print(y_train.shape)\n",
    "print(x_test.shape)\n",
    "print(y_test.shape)"
   ]
  },
  {
   "cell_type": "code",
   "execution_count": 4,
   "metadata": {},
   "outputs": [],
   "source": [
    "import pickle\n",
    "\n",
    "def init_network():\n",
    "    with open(\"sample_weight.pkl\",'rb') as f:\n",
    "        network = pickle.load(f)\n",
    "    return network"
   ]
  },
  {
   "cell_type": "code",
   "execution_count": 5,
   "metadata": {},
   "outputs": [],
   "source": [
    "import numpy as np\n",
    "\n",
    "from method.activation_function import sigmoid, softmax, relu, step_function\n",
    "\n",
    "def predict(network, x):\n",
    "    W1, W2, W3 = network['W1'], network['W2'], network['W3']\n",
    "    b1, b2, b3 = network['b1'], network['b2'], network['b3']\n",
    "\n",
    "    a1 = np.dot(x, W1) + b1\n",
    "    z1 = sigmoid(a1)\n",
    "    a2 = np.dot(z1, W2) + b2\n",
    "    z2 = sigmoid(a2)\n",
    "    a3 = np.dot(z2, W3) + b3\n",
    "    y = softmax(a3)\n",
    "\n",
    "    return y"
   ]
  },
  {
   "cell_type": "code",
   "execution_count": 6,
   "metadata": {},
   "outputs": [
    {
     "name": "stdout",
     "output_type": "stream",
     "text": [
      "Accuracy        :0.9352\n",
      "total time:     :0.6876485347747803\n"
     ]
    }
   ],
   "source": [
    "import time\n",
    "\n",
    "network = init_network()\n",
    "accuracy_cnt = 0\n",
    "\n",
    "start_time = time.time()\n",
    "for i in range(len(x_test)):\n",
    "    x_test_predict = predict(network, x_test[i])\n",
    "    p = np.argmax(x_test_predict)\n",
    "    if p == y_test[i]:\n",
    "        accuracy_cnt += 1\n",
    "end_time = time.time()\n",
    "\n",
    "print('{:<15}'.format('Accuracy'),\":\" + str(float(accuracy_cnt) / len(x_test)))\n",
    "print(\"{:<15}\".format(\"total time:\"),\":\" + str(end_time - start_time))"
   ]
  },
  {
   "cell_type": "code",
   "execution_count": 7,
   "metadata": {},
   "outputs": [],
   "source": [
    "# def predict(network, x):\n",
    "#     W1, W2, W3 = network['W1'], network['W2'], network['W3']\n",
    "#     b1, b2, b3 = network['b1'], network['b2'], network['b3']\n",
    "\n",
    "#     a1 = np.dot(x, W1) + b1\n",
    "#     z1 = relu(a1)\n",
    "#     a2 = np.dot(z1, W2) + b2\n",
    "#     z2 = relu(a2)\n",
    "#     a3 = np.dot(z2, W3) + b3\n",
    "#     y = softmax(a3)\n",
    "\n",
    "#     return y\n",
    "\n",
    "\n",
    "# network = init_network()\n",
    "# accuracy_cnt = 0\n",
    "# for i in range(len(x_test)):\n",
    "#     x_test_predict = predict(network, x_test[i])\n",
    "#     p = np.argmax(x_test_predict)\n",
    "#     if p == y_test[i]:\n",
    "#         accuracy_cnt += 1\n",
    "\n",
    "# print(\"Accuracy:\" + str(float(accuracy_cnt) / len(x_test)))"
   ]
  },
  {
   "cell_type": "code",
   "execution_count": 8,
   "metadata": {},
   "outputs": [],
   "source": [
    "# def predict(network, x):\n",
    "#     W1, W2, W3 = network['W1'], network['W2'], network['W3']\n",
    "#     b1, b2, b3 = network['b1'], network['b2'], network['b3']\n",
    "\n",
    "#     a1 = np.dot(x, W1) + b1\n",
    "#     z1 = step_function(a1)\n",
    "#     a2 = np.dot(z1, W2) + b2\n",
    "#     z2 = step_function(a2)\n",
    "#     a3 = np.dot(z2, W3) + b3\n",
    "#     y = softmax(a3)\n",
    "\n",
    "#     return y\n",
    "\n",
    "\n",
    "# network = init_network()\n",
    "# accuracy_cnt = 0\n",
    "# for i in range(len(x_test)):\n",
    "#     x_test_predict = predict(network, x_test[i])\n",
    "#     p = np.argmax(x_test_predict)\n",
    "#     if p == y_test[i]:\n",
    "#         accuracy_cnt += 1\n",
    "\n",
    "# print(\"Accuracy:\" + str(float(accuracy_cnt) / len(x_test)))"
   ]
  },
  {
   "cell_type": "code",
   "execution_count": 9,
   "metadata": {},
   "outputs": [
    {
     "name": "stdout",
     "output_type": "stream",
     "text": [
      "Accuracy        :0.9352\n",
      "total time:     :0.03448200225830078\n"
     ]
    }
   ],
   "source": [
    "accuracy_cnt = 0\n",
    "batch_size = 100\n",
    "\n",
    "start_time = time.time()\n",
    "for i in range(0,len(x_test),batch_size):\n",
    "    x_test_predict_batch = predict(network, x_test[i:i+batch_size])\n",
    "    p = np.argmax(x_test_predict_batch, axis=1)\n",
    "    accuracy_cnt += np.sum(p==y_test[i:i+batch_size])\n",
    "end_time = time.time()\n",
    "\n",
    "print('{:<15}'.format('Accuracy'),\":\" + str(float(accuracy_cnt) / len(x_test)))\n",
    "print(\"{:<15}\".format(\"total time:\"),\":\" + str(end_time - start_time))"
   ]
  },
  {
   "cell_type": "code",
   "execution_count": null,
   "metadata": {},
   "outputs": [],
   "source": []
  }
 ],
 "metadata": {
  "kernelspec": {
   "display_name": "base",
   "language": "python",
   "name": "python3"
  },
  "language_info": {
   "codemirror_mode": {
    "name": "ipython",
    "version": 3
   },
   "file_extension": ".py",
   "mimetype": "text/x-python",
   "name": "python",
   "nbconvert_exporter": "python",
   "pygments_lexer": "ipython3",
   "version": "3.9.12"
  }
 },
 "nbformat": 4,
 "nbformat_minor": 2
}
