{
 "cells": [
  {
   "cell_type": "code",
   "execution_count": 6,
   "metadata": {},
   "outputs": [],
   "source": [
    "import sys, os\n",
    "sys.path.append(os.pardir)\n",
    "\n",
    "import numpy as np\n",
    "from tqdm import tqdm\n",
    "from multiprocessing import Pool\n",
    "\n",
    "from method.functions import *\n",
    "from method.gradient import numerical_gradient"
   ]
  },
  {
   "cell_type": "code",
   "execution_count": 7,
   "metadata": {},
   "outputs": [],
   "source": [
    "class TwoLayerNet:\n",
    "    def __init__(self, input_size, hidden_size, output_size, weight_init_std=0.01):\n",
    "        \n",
    "        self.params = {}\n",
    "        self.params[\"W1\"] = weight_init_std*np.random.randn(input_size, hidden_size)\n",
    "        self.params[\"b1\"] = np.zeros(hidden_size)\n",
    "        self.params[\"W2\"] = weight_init_std*np.random.randn(hidden_size, output_size)\n",
    "        self.params[\"b2\"] = np.zeros(output_size)\n",
    "\n",
    "    def predict(self, x):\n",
    "        W1, W2 = self.params[\"W1\"], self.params[\"W2\"]\n",
    "        b1, b2 = self.params[\"b1\"], self.params[\"b2\"]\n",
    "        \n",
    "        layer1 = np.dot(x, W1) + b1\n",
    "        hidden1 = sigmoid(layer1)\n",
    "        layer2 = np.dot(hidden1, W2) + b2\n",
    "        output = softmax(layer2)\n",
    "        \n",
    "        return output\n",
    "    \n",
    "    def loss(self, x, t):\n",
    "        y = self.predict(x)\n",
    "        \n",
    "        return cross_entropy_error(y,t)\n",
    "\n",
    "    def accuracy(self,x,t):\n",
    "        y = self.predict(x)\n",
    "        y = np.argmax(y, axis=1)\n",
    "        t = np.argmax(t, axis=1)\n",
    "        \n",
    "        accuracy = np.sum(y == t)/float(x.shape[0])\n",
    "        \n",
    "        return accuracy\n",
    "    \n",
    "    def numerical_gradient(self, x, t):\n",
    "        loss_W = lambda W: self.loss(x,t)\n",
    "        \n",
    "        grads = {}\n",
    "        grads[\"W1\"] = numerical_gradient(loss_W, self.params[\"W1\"])\n",
    "        grads[\"b1\"] = numerical_gradient(loss_W, self.params[\"b1\"])\n",
    "        grads[\"W2\"] = numerical_gradient(loss_W, self.params[\"W2\"])\n",
    "        grads[\"b2\"] = numerical_gradient(loss_W, self.params[\"b2\"])\n",
    "        \n",
    "        return grads    "
   ]
  },
  {
   "cell_type": "code",
   "execution_count": 8,
   "metadata": {},
   "outputs": [],
   "source": [
    "from dataset.mnist import load_mnist\n",
    "\n",
    "(x_train, t_train),(x_test, t_test) = load_mnist(normalize = True, one_hot_label=True)"
   ]
  },
  {
   "cell_type": "code",
   "execution_count": 9,
   "metadata": {},
   "outputs": [],
   "source": [
    "train_loss_list = []\n",
    "\n",
    "iters_num = 10000\n",
    "train_size = x_train.shape[0]\n",
    "batch_size = 100\n",
    "learning_rate = 0.1\n",
    "\n",
    "network = TwoLayerNet(input_size=784, hidden_size=50, output_size=10)"
   ]
  },
  {
   "cell_type": "code",
   "execution_count": 10,
   "metadata": {},
   "outputs": [
    {
     "name": "stderr",
     "output_type": "stream",
     "text": [
      "  0%|          | 0/10000 [00:00<?, ?it/s]"
     ]
    },
    {
     "name": "stderr",
     "output_type": "stream",
     "text": [
      "  0%|          | 4/10000 [02:38<109:50:54, 39.56s/it]\n"
     ]
    },
    {
     "ename": "KeyboardInterrupt",
     "evalue": "",
     "output_type": "error",
     "traceback": [
      "\u001b[0;31m---------------------------------------------------------------------------\u001b[0m",
      "\u001b[0;31mKeyboardInterrupt\u001b[0m                         Traceback (most recent call last)",
      "\u001b[1;32m/home/hoon/DeepLearningfromScratch/3.2.neuralnetwork_learning.ipynb Cell 5\u001b[0m line \u001b[0;36m6\n\u001b[1;32m      <a href='vscode-notebook-cell://ssh-remote%2Bfnai/home/hoon/DeepLearningfromScratch/3.2.neuralnetwork_learning.ipynb#W5sdnNjb2RlLXJlbW90ZQ%3D%3D?line=2'>3</a>\u001b[0m x_batch \u001b[39m=\u001b[39m x_train[batch_mask]\n\u001b[1;32m      <a href='vscode-notebook-cell://ssh-remote%2Bfnai/home/hoon/DeepLearningfromScratch/3.2.neuralnetwork_learning.ipynb#W5sdnNjb2RlLXJlbW90ZQ%3D%3D?line=3'>4</a>\u001b[0m t_batch \u001b[39m=\u001b[39m t_train[batch_mask]\n\u001b[0;32m----> <a href='vscode-notebook-cell://ssh-remote%2Bfnai/home/hoon/DeepLearningfromScratch/3.2.neuralnetwork_learning.ipynb#W5sdnNjb2RlLXJlbW90ZQ%3D%3D?line=5'>6</a>\u001b[0m grad \u001b[39m=\u001b[39m network\u001b[39m.\u001b[39;49mnumerical_gradient(x_batch, t_batch)\n\u001b[1;32m      <a href='vscode-notebook-cell://ssh-remote%2Bfnai/home/hoon/DeepLearningfromScratch/3.2.neuralnetwork_learning.ipynb#W5sdnNjb2RlLXJlbW90ZQ%3D%3D?line=7'>8</a>\u001b[0m \u001b[39mfor\u001b[39;00m key \u001b[39min\u001b[39;00m (\u001b[39m\"\u001b[39m\u001b[39mW1\u001b[39m\u001b[39m\"\u001b[39m, \u001b[39m\"\u001b[39m\u001b[39mb1\u001b[39m\u001b[39m\"\u001b[39m, \u001b[39m\"\u001b[39m\u001b[39mW2\u001b[39m\u001b[39m\"\u001b[39m, \u001b[39m\"\u001b[39m\u001b[39mb2\u001b[39m\u001b[39m\"\u001b[39m):\n\u001b[1;32m      <a href='vscode-notebook-cell://ssh-remote%2Bfnai/home/hoon/DeepLearningfromScratch/3.2.neuralnetwork_learning.ipynb#W5sdnNjb2RlLXJlbW90ZQ%3D%3D?line=8'>9</a>\u001b[0m     network\u001b[39m.\u001b[39mparams[key] \u001b[39m-\u001b[39m\u001b[39m=\u001b[39m learning_rate\u001b[39m*\u001b[39mgrad[key]\n",
      "\u001b[1;32m/home/hoon/DeepLearningfromScratch/3.2.neuralnetwork_learning.ipynb Cell 5\u001b[0m line \u001b[0;36m3\n\u001b[1;32m     <a href='vscode-notebook-cell://ssh-remote%2Bfnai/home/hoon/DeepLearningfromScratch/3.2.neuralnetwork_learning.ipynb#W5sdnNjb2RlLXJlbW90ZQ%3D%3D?line=35'>36</a>\u001b[0m loss_W \u001b[39m=\u001b[39m \u001b[39mlambda\u001b[39;00m W: \u001b[39mself\u001b[39m\u001b[39m.\u001b[39mloss(x,t)\n\u001b[1;32m     <a href='vscode-notebook-cell://ssh-remote%2Bfnai/home/hoon/DeepLearningfromScratch/3.2.neuralnetwork_learning.ipynb#W5sdnNjb2RlLXJlbW90ZQ%3D%3D?line=37'>38</a>\u001b[0m grads \u001b[39m=\u001b[39m {}\n\u001b[0;32m---> <a href='vscode-notebook-cell://ssh-remote%2Bfnai/home/hoon/DeepLearningfromScratch/3.2.neuralnetwork_learning.ipynb#W5sdnNjb2RlLXJlbW90ZQ%3D%3D?line=38'>39</a>\u001b[0m grads[\u001b[39m\"\u001b[39m\u001b[39mW1\u001b[39m\u001b[39m\"\u001b[39m] \u001b[39m=\u001b[39m numerical_gradient(loss_W, \u001b[39mself\u001b[39;49m\u001b[39m.\u001b[39;49mparams[\u001b[39m\"\u001b[39;49m\u001b[39mW1\u001b[39;49m\u001b[39m\"\u001b[39;49m])\n\u001b[1;32m     <a href='vscode-notebook-cell://ssh-remote%2Bfnai/home/hoon/DeepLearningfromScratch/3.2.neuralnetwork_learning.ipynb#W5sdnNjb2RlLXJlbW90ZQ%3D%3D?line=39'>40</a>\u001b[0m grads[\u001b[39m\"\u001b[39m\u001b[39mb1\u001b[39m\u001b[39m\"\u001b[39m] \u001b[39m=\u001b[39m numerical_gradient(loss_W, \u001b[39mself\u001b[39m\u001b[39m.\u001b[39mparams[\u001b[39m\"\u001b[39m\u001b[39mb1\u001b[39m\u001b[39m\"\u001b[39m])\n\u001b[1;32m     <a href='vscode-notebook-cell://ssh-remote%2Bfnai/home/hoon/DeepLearningfromScratch/3.2.neuralnetwork_learning.ipynb#W5sdnNjb2RlLXJlbW90ZQ%3D%3D?line=40'>41</a>\u001b[0m grads[\u001b[39m\"\u001b[39m\u001b[39mW2\u001b[39m\u001b[39m\"\u001b[39m] \u001b[39m=\u001b[39m numerical_gradient(loss_W, \u001b[39mself\u001b[39m\u001b[39m.\u001b[39mparams[\u001b[39m\"\u001b[39m\u001b[39mW2\u001b[39m\u001b[39m\"\u001b[39m])\n",
      "File \u001b[0;32m~/DeepLearningfromScratch/method/gradient.py:43\u001b[0m, in \u001b[0;36mnumerical_gradient\u001b[0;34m(f, x)\u001b[0m\n\u001b[1;32m     41\u001b[0m tmp_val \u001b[39m=\u001b[39m x[idx]\n\u001b[1;32m     42\u001b[0m x[idx] \u001b[39m=\u001b[39m \u001b[39mfloat\u001b[39m(tmp_val) \u001b[39m+\u001b[39m h\n\u001b[0;32m---> 43\u001b[0m fxh1 \u001b[39m=\u001b[39m f(x) \u001b[39m# f(x+h)\u001b[39;00m\n\u001b[1;32m     45\u001b[0m x[idx] \u001b[39m=\u001b[39m tmp_val \u001b[39m-\u001b[39m h \n\u001b[1;32m     46\u001b[0m fxh2 \u001b[39m=\u001b[39m f(x) \u001b[39m# f(x-h)\u001b[39;00m\n",
      "\u001b[1;32m/home/hoon/DeepLearningfromScratch/3.2.neuralnetwork_learning.ipynb Cell 5\u001b[0m line \u001b[0;36m3\n\u001b[1;32m     <a href='vscode-notebook-cell://ssh-remote%2Bfnai/home/hoon/DeepLearningfromScratch/3.2.neuralnetwork_learning.ipynb#W5sdnNjb2RlLXJlbW90ZQ%3D%3D?line=34'>35</a>\u001b[0m \u001b[39mdef\u001b[39;00m \u001b[39mnumerical_gradient\u001b[39m(\u001b[39mself\u001b[39m, x, t):\n\u001b[0;32m---> <a href='vscode-notebook-cell://ssh-remote%2Bfnai/home/hoon/DeepLearningfromScratch/3.2.neuralnetwork_learning.ipynb#W5sdnNjb2RlLXJlbW90ZQ%3D%3D?line=35'>36</a>\u001b[0m     loss_W \u001b[39m=\u001b[39m \u001b[39mlambda\u001b[39;00m W: \u001b[39mself\u001b[39;49m\u001b[39m.\u001b[39;49mloss(x,t)\n\u001b[1;32m     <a href='vscode-notebook-cell://ssh-remote%2Bfnai/home/hoon/DeepLearningfromScratch/3.2.neuralnetwork_learning.ipynb#W5sdnNjb2RlLXJlbW90ZQ%3D%3D?line=37'>38</a>\u001b[0m     grads \u001b[39m=\u001b[39m {}\n\u001b[1;32m     <a href='vscode-notebook-cell://ssh-remote%2Bfnai/home/hoon/DeepLearningfromScratch/3.2.neuralnetwork_learning.ipynb#W5sdnNjb2RlLXJlbW90ZQ%3D%3D?line=38'>39</a>\u001b[0m     grads[\u001b[39m\"\u001b[39m\u001b[39mW1\u001b[39m\u001b[39m\"\u001b[39m] \u001b[39m=\u001b[39m numerical_gradient(loss_W, \u001b[39mself\u001b[39m\u001b[39m.\u001b[39mparams[\u001b[39m\"\u001b[39m\u001b[39mW1\u001b[39m\u001b[39m\"\u001b[39m])\n",
      "\u001b[1;32m/home/hoon/DeepLearningfromScratch/3.2.neuralnetwork_learning.ipynb Cell 5\u001b[0m line \u001b[0;36m2\n\u001b[1;32m     <a href='vscode-notebook-cell://ssh-remote%2Bfnai/home/hoon/DeepLearningfromScratch/3.2.neuralnetwork_learning.ipynb#W5sdnNjb2RlLXJlbW90ZQ%3D%3D?line=20'>21</a>\u001b[0m \u001b[39mdef\u001b[39;00m \u001b[39mloss\u001b[39m(\u001b[39mself\u001b[39m, x, t):\n\u001b[0;32m---> <a href='vscode-notebook-cell://ssh-remote%2Bfnai/home/hoon/DeepLearningfromScratch/3.2.neuralnetwork_learning.ipynb#W5sdnNjb2RlLXJlbW90ZQ%3D%3D?line=21'>22</a>\u001b[0m     y \u001b[39m=\u001b[39m \u001b[39mself\u001b[39;49m\u001b[39m.\u001b[39;49mpredict(x)\n\u001b[1;32m     <a href='vscode-notebook-cell://ssh-remote%2Bfnai/home/hoon/DeepLearningfromScratch/3.2.neuralnetwork_learning.ipynb#W5sdnNjb2RlLXJlbW90ZQ%3D%3D?line=23'>24</a>\u001b[0m     \u001b[39mreturn\u001b[39;00m cross_entropy_error(y,t)\n",
      "\u001b[1;32m/home/hoon/DeepLearningfromScratch/3.2.neuralnetwork_learning.ipynb Cell 5\u001b[0m line \u001b[0;36m1\n\u001b[1;32m     <a href='vscode-notebook-cell://ssh-remote%2Bfnai/home/hoon/DeepLearningfromScratch/3.2.neuralnetwork_learning.ipynb#W5sdnNjb2RlLXJlbW90ZQ%3D%3D?line=14'>15</a>\u001b[0m hidden1 \u001b[39m=\u001b[39m sigmoid(layer1)\n\u001b[1;32m     <a href='vscode-notebook-cell://ssh-remote%2Bfnai/home/hoon/DeepLearningfromScratch/3.2.neuralnetwork_learning.ipynb#W5sdnNjb2RlLXJlbW90ZQ%3D%3D?line=15'>16</a>\u001b[0m layer2 \u001b[39m=\u001b[39m np\u001b[39m.\u001b[39mdot(hidden1, W2) \u001b[39m+\u001b[39m b2\n\u001b[0;32m---> <a href='vscode-notebook-cell://ssh-remote%2Bfnai/home/hoon/DeepLearningfromScratch/3.2.neuralnetwork_learning.ipynb#W5sdnNjb2RlLXJlbW90ZQ%3D%3D?line=16'>17</a>\u001b[0m output \u001b[39m=\u001b[39m softmax(layer2)\n\u001b[1;32m     <a href='vscode-notebook-cell://ssh-remote%2Bfnai/home/hoon/DeepLearningfromScratch/3.2.neuralnetwork_learning.ipynb#W5sdnNjb2RlLXJlbW90ZQ%3D%3D?line=18'>19</a>\u001b[0m \u001b[39mreturn\u001b[39;00m output\n",
      "File \u001b[0;32m~/DeepLearningfromScratch/method/functions.py:33\u001b[0m, in \u001b[0;36msoftmax\u001b[0;34m(x)\u001b[0m\n\u001b[1;32m     31\u001b[0m \u001b[39mif\u001b[39;00m x\u001b[39m.\u001b[39mndim \u001b[39m==\u001b[39m \u001b[39m2\u001b[39m:\n\u001b[1;32m     32\u001b[0m     x \u001b[39m=\u001b[39m x\u001b[39m.\u001b[39mT\n\u001b[0;32m---> 33\u001b[0m     x \u001b[39m=\u001b[39m x \u001b[39m-\u001b[39m np\u001b[39m.\u001b[39;49mmax(x, axis\u001b[39m=\u001b[39;49m\u001b[39m0\u001b[39;49m)\n\u001b[1;32m     34\u001b[0m     y \u001b[39m=\u001b[39m np\u001b[39m.\u001b[39mexp(x) \u001b[39m/\u001b[39m np\u001b[39m.\u001b[39msum(np\u001b[39m.\u001b[39mexp(x), axis\u001b[39m=\u001b[39m\u001b[39m0\u001b[39m)\n\u001b[1;32m     35\u001b[0m     \u001b[39mreturn\u001b[39;00m y\u001b[39m.\u001b[39mT \n",
      "File \u001b[0;32m<__array_function__ internals>:180\u001b[0m, in \u001b[0;36mamax\u001b[0;34m(*args, **kwargs)\u001b[0m\n",
      "File \u001b[0;32m~/anaconda3/lib/python3.10/site-packages/numpy/core/fromnumeric.py:2793\u001b[0m, in \u001b[0;36mamax\u001b[0;34m(a, axis, out, keepdims, initial, where)\u001b[0m\n\u001b[1;32m   2677\u001b[0m \u001b[39m@array_function_dispatch\u001b[39m(_amax_dispatcher)\n\u001b[1;32m   2678\u001b[0m \u001b[39mdef\u001b[39;00m \u001b[39mamax\u001b[39m(a, axis\u001b[39m=\u001b[39m\u001b[39mNone\u001b[39;00m, out\u001b[39m=\u001b[39m\u001b[39mNone\u001b[39;00m, keepdims\u001b[39m=\u001b[39mnp\u001b[39m.\u001b[39m_NoValue, initial\u001b[39m=\u001b[39mnp\u001b[39m.\u001b[39m_NoValue,\n\u001b[1;32m   2679\u001b[0m          where\u001b[39m=\u001b[39mnp\u001b[39m.\u001b[39m_NoValue):\n\u001b[1;32m   2680\u001b[0m \u001b[39m    \u001b[39m\u001b[39m\"\"\"\u001b[39;00m\n\u001b[1;32m   2681\u001b[0m \u001b[39m    Return the maximum of an array or maximum along an axis.\u001b[39;00m\n\u001b[1;32m   2682\u001b[0m \n\u001b[0;32m   (...)\u001b[0m\n\u001b[1;32m   2791\u001b[0m \u001b[39m    5\u001b[39;00m\n\u001b[1;32m   2792\u001b[0m \u001b[39m    \"\"\"\u001b[39;00m\n\u001b[0;32m-> 2793\u001b[0m     \u001b[39mreturn\u001b[39;00m _wrapreduction(a, np\u001b[39m.\u001b[39;49mmaximum, \u001b[39m'\u001b[39;49m\u001b[39mmax\u001b[39;49m\u001b[39m'\u001b[39;49m, axis, \u001b[39mNone\u001b[39;49;00m, out,\n\u001b[1;32m   2794\u001b[0m                           keepdims\u001b[39m=\u001b[39;49mkeepdims, initial\u001b[39m=\u001b[39;49minitial, where\u001b[39m=\u001b[39;49mwhere)\n",
      "File \u001b[0;32m~/anaconda3/lib/python3.10/site-packages/numpy/core/fromnumeric.py:86\u001b[0m, in \u001b[0;36m_wrapreduction\u001b[0;34m(obj, ufunc, method, axis, dtype, out, **kwargs)\u001b[0m\n\u001b[1;32m     83\u001b[0m         \u001b[39melse\u001b[39;00m:\n\u001b[1;32m     84\u001b[0m             \u001b[39mreturn\u001b[39;00m reduction(axis\u001b[39m=\u001b[39maxis, out\u001b[39m=\u001b[39mout, \u001b[39m*\u001b[39m\u001b[39m*\u001b[39mpasskwargs)\n\u001b[0;32m---> 86\u001b[0m \u001b[39mreturn\u001b[39;00m ufunc\u001b[39m.\u001b[39;49mreduce(obj, axis, dtype, out, \u001b[39m*\u001b[39;49m\u001b[39m*\u001b[39;49mpasskwargs)\n",
      "\u001b[0;31mKeyboardInterrupt\u001b[0m: "
     ]
    }
   ],
   "source": [
    "for i in tqdm(range(iters_num)):\n",
    "    batch_mask = np.random.choice(train_size, batch_size)\n",
    "    x_batch = x_train[batch_mask]\n",
    "    t_batch = t_train[batch_mask]\n",
    "    \n",
    "    grad = network.numerical_gradient(x_batch, t_batch)\n",
    "    \n",
    "    for key in (\"W1\", \"b1\", \"W2\", \"b2\"):\n",
    "        network.params[key] -= learning_rate*grad[key]\n",
    "        \n",
    "    loss = network.loss(x_batch, t_batch)\n",
    "    train_loss_list.append(loss)"
   ]
  },
  {
   "cell_type": "code",
   "execution_count": null,
   "metadata": {},
   "outputs": [
    {
     "ename": "TypeError",
     "evalue": "Cannot interpret '<built-in function array>' as a data type",
     "output_type": "error",
     "traceback": [
      "\u001b[0;31m---------------------------------------------------------------------------\u001b[0m",
      "\u001b[0;31mTypeError\u001b[0m                                 Traceback (most recent call last)",
      "\u001b[1;32m/home/hoon/DeepLearningfromScratch/3.2.neuralnetwork_learning.ipynb Cell 6\u001b[0m line \u001b[0;36m1\n\u001b[0;32m----> <a href='vscode-notebook-cell://ssh-remote%2Bfnai/home/hoon/DeepLearningfromScratch/3.2.neuralnetwork_learning.ipynb#X10sdnNjb2RlLXJlbW90ZQ%3D%3D?line=0'>1</a>\u001b[0m x_train\u001b[39m.\u001b[39;49mastype(np\u001b[39m.\u001b[39;49marray)\n",
      "File \u001b[0;32mcupy/_core/core.pyx:512\u001b[0m, in \u001b[0;36mcupy._core.core._ndarray_base.astype\u001b[0;34m()\u001b[0m\n",
      "File \u001b[0;32mcupy/_core/core.pyx:551\u001b[0m, in \u001b[0;36mcupy._core.core._ndarray_base.astype\u001b[0;34m()\u001b[0m\n",
      "File \u001b[0;32mcupy/_core/_dtype.pyx:53\u001b[0m, in \u001b[0;36mcupy._core._dtype.get_dtype\u001b[0;34m()\u001b[0m\n",
      "\u001b[0;31mTypeError\u001b[0m: Cannot interpret '<built-in function array>' as a data type"
     ]
    }
   ],
   "source": [
    "x_train.astype(np.array)"
   ]
  },
  {
   "cell_type": "code",
   "execution_count": null,
   "metadata": {},
   "outputs": [],
   "source": []
  }
 ],
 "metadata": {
  "kernelspec": {
   "display_name": "base",
   "language": "python",
   "name": "python3"
  },
  "language_info": {
   "codemirror_mode": {
    "name": "ipython",
    "version": 3
   },
   "file_extension": ".py",
   "mimetype": "text/x-python",
   "name": "python",
   "nbconvert_exporter": "python",
   "pygments_lexer": "ipython3",
   "version": "3.10.12"
  }
 },
 "nbformat": 4,
 "nbformat_minor": 2
}
